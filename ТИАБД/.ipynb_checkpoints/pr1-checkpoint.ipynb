{
 "cells": [
  {
   "cell_type": "markdown",
   "id": "31bff9a1",
   "metadata": {},
   "source": [
    "### Написать программу, которая вычисляет площадь фигуры, параметры которой подаются на вход. Фигуры, которые подаются на вход: треугольник, прямоугольник, круг. Результатом работы является словарь, где ключ – это название фигуры, а значение – это площадь."
   ]
  },
  {
   "cell_type": "code",
   "execution_count": 1,
   "id": "fbb5d001",
   "metadata": {},
   "outputs": [],
   "source": [
    "def triangle(a, h):\n",
    "    return {'triangle':0.5 * a * h}"
   ]
  },
  {
   "cell_type": "code",
   "execution_count": 2,
   "id": "82f97b1d",
   "metadata": {},
   "outputs": [],
   "source": [
    "def rectangle(a, b):\n",
    "    return {'square':a * b}"
   ]
  },
  {
   "cell_type": "code",
   "execution_count": 3,
   "id": "36c219b4",
   "metadata": {},
   "outputs": [],
   "source": [
    "def circle(r):\n",
    "    return {'circle': 3.14 * r * r}"
   ]
  },
  {
   "cell_type": "code",
   "execution_count": 8,
   "id": "80110e6b",
   "metadata": {},
   "outputs": [
    {
     "name": "stdout",
     "output_type": "stream",
     "text": [
      "circle\n",
      "4\n",
      "{'circle': 50.24}\n"
     ]
    }
   ],
   "source": [
    "def area(shape):\n",
    "    if shape == 'triangle':\n",
    "        return triangle(int(input()), int(input()))\n",
    "    elif shape == 'rectangle':\n",
    "        return rectangle(int(input()), int(input()))\n",
    "    elif shape == 'circle':\n",
    "        return circle(int(input()))\n",
    "    else:\n",
    "        return \"ERROR\"\n",
    "print(area(input()))"
   ]
  },
  {
   "cell_type": "markdown",
   "id": "a6f50c38",
   "metadata": {},
   "source": [
    "### Написать программу, которая на вход получает два числа и операцию, которую к ним нужно применить. Должны быть реализованы следующие операции: +, -, /, //, abs – модуль, pow или ** – возведение в степень"
   ]
  },
  {
   "cell_type": "code",
   "execution_count": 9,
   "id": "6b041ff9",
   "metadata": {},
   "outputs": [],
   "source": [
    "def counter(a, b, operation):\n",
    "    if operation == '+':\n",
    "        return a+b\n",
    "    elif operation == '-':\n",
    "        return a-b\n",
    "    elif operation == '/':\n",
    "        return a/b\n",
    "    elif operation == '//':\n",
    "        return a//b\n",
    "    elif operation == 'abs':\n",
    "        return abs(a-b)\n",
    "    elif operation == 'pow' or '**':\n",
    "        return a**b\n",
    "    else:\n",
    "        return 'ERROR'"
   ]
  },
  {
   "cell_type": "code",
   "execution_count": 10,
   "id": "12804781",
   "metadata": {},
   "outputs": [
    {
     "name": "stdout",
     "output_type": "stream",
     "text": [
      "4\n",
      "5\n",
      "-\n",
      "-1\n"
     ]
    }
   ],
   "source": [
    "print(counter(int(input()), int(input()), input()))"
   ]
  },
  {
   "cell_type": "markdown",
   "id": "cf386bab",
   "metadata": {},
   "source": [
    "### Напишите программу, которая считывает с консоли числа (по одному в строке) до тех пор, пока сумма введённых чисел не будет равна 0 и после этого выводит сумму квадратов всех считанных чисел."
   ]
  },
  {
   "cell_type": "code",
   "execution_count": 13,
   "id": "2bdd13f7",
   "metadata": {},
   "outputs": [
    {
     "name": "stdout",
     "output_type": "stream",
     "text": [
      "5\n",
      "1\n",
      "-6\n",
      "62\n"
     ]
    }
   ],
   "source": [
    "n = int(input())\n",
    "s = n*n\n",
    "while n != 0:\n",
    "    m = int(input())\n",
    "    n += m\n",
    "    s += m*m\n",
    "print(s)"
   ]
  },
  {
   "cell_type": "markdown",
   "id": "a41a718e",
   "metadata": {},
   "source": [
    "### Напишите программу, которая выводит последовательность чисел, длинною N, где каждое число повторяется столько раз, чему оно равно. На вход программе передаётся неотрицательное целое число N. Например, если N = 7, то программа должна вывести 1 2 2 3 3 3 4. Вывод элементов списка через пробел – print(*list)."
   ]
  },
  {
   "cell_type": "code",
   "execution_count": 29,
   "id": "74860e2e",
   "metadata": {},
   "outputs": [],
   "source": [
    "def lst(n):\n",
    "    lst = []\n",
    "    for i in range(n):\n",
    "        for j in range(i):\n",
    "            lst.append(i)\n",
    "            if len(lst) == n:\n",
    "                return lst"
   ]
  },
  {
   "cell_type": "code",
   "execution_count": 57,
   "id": "7c129b3f",
   "metadata": {},
   "outputs": [
    {
     "name": "stdout",
     "output_type": "stream",
     "text": [
      "5\n",
      "1 2 2 3 3\n"
     ]
    }
   ],
   "source": [
    "print(*lst(int(input())))"
   ]
  },
  {
   "cell_type": "markdown",
   "id": "4c3f6538",
   "metadata": {},
   "source": [
    "### А = [1, 2, 3, 4, 2, 1, 3, 4, 5, 6, 5, 4, 3, 2]\n",
    "### В = [‘a’, ’b’, ’c’, ’c’, ’c’, ’b’, ’a’, ’c’, ’a’, ’a’, ’b’, ’c’, ’b’, ’a’]\n",
    "### Создать словарь, в котором ключи – это содержимое списка В, а значения для ключей словаря – это сумма всех элементов списка А в соответствии с буквой, содержащийся на той же позиции в списке В. Пример результата программы: {‘a’ : 10, ‘b’ : 15, ‘c’ : 6}."
   ]
  },
  {
   "cell_type": "code",
   "execution_count": 37,
   "id": "6e15d6cd",
   "metadata": {},
   "outputs": [],
   "source": [
    "a = [1, 2, 3, 4, 2, 1, 3, 4, 5, 6, 5, 4, 3, 2]\n",
    "b = ['a', 'b', 'c', 'c', 'c', 'b', 'a', 'c', 'a', 'a', 'b', 'c', 'b', 'a']"
   ]
  },
  {
   "cell_type": "code",
   "execution_count": 38,
   "id": "6343ebd3",
   "metadata": {},
   "outputs": [
    {
     "name": "stdout",
     "output_type": "stream",
     "text": [
      "{'a': 17, 'b': 11, 'c': 17}\n"
     ]
    }
   ],
   "source": [
    "dct = {}\n",
    "for i in range(len(a)):\n",
    "    if b[i] in dct: \n",
    "        dct[b[i]] += a[i]\n",
    "    else:\n",
    "        dct[b[i]] = a[i]\n",
    "print(dct)"
   ]
  },
  {
   "cell_type": "code",
   "execution_count": 39,
   "id": "cec379bc",
   "metadata": {},
   "outputs": [],
   "source": [
    "from sklearn.datasets import fetch_california_housing\n",
    "data = fetch_california_housing(as_frame=True)"
   ]
  },
  {
   "cell_type": "markdown",
   "id": "a6b4982e",
   "metadata": {},
   "source": [
    "### Использовать метод info()."
   ]
  },
  {
   "cell_type": "code",
   "execution_count": 42,
   "id": "264e07e2",
   "metadata": {},
   "outputs": [
    {
     "name": "stdout",
     "output_type": "stream",
     "text": [
      "<class 'pandas.core.frame.DataFrame'>\n",
      "RangeIndex: 20640 entries, 0 to 20639\n",
      "Data columns (total 8 columns):\n",
      " #   Column      Non-Null Count  Dtype  \n",
      "---  ------      --------------  -----  \n",
      " 0   MedInc      20640 non-null  float64\n",
      " 1   HouseAge    20640 non-null  float64\n",
      " 2   AveRooms    20640 non-null  float64\n",
      " 3   AveBedrms   20640 non-null  float64\n",
      " 4   Population  20640 non-null  float64\n",
      " 5   AveOccup    20640 non-null  float64\n",
      " 6   Latitude    20640 non-null  float64\n",
      " 7   Longitude   20640 non-null  float64\n",
      "dtypes: float64(8)\n",
      "memory usage: 1.3 MB\n"
     ]
    }
   ],
   "source": [
    "data.data.info()"
   ]
  },
  {
   "cell_type": "markdown",
   "id": "c0edeb35",
   "metadata": {},
   "source": [
    "### Узнать, есть ли пропущенные значения, используя isna().sum()"
   ]
  },
  {
   "cell_type": "code",
   "execution_count": 43,
   "id": "82118d9b",
   "metadata": {},
   "outputs": [
    {
     "data": {
      "text/plain": [
       "MedInc        0\n",
       "HouseAge      0\n",
       "AveRooms      0\n",
       "AveBedrms     0\n",
       "Population    0\n",
       "AveOccup      0\n",
       "Latitude      0\n",
       "Longitude     0\n",
       "dtype: int64"
      ]
     },
     "execution_count": 43,
     "metadata": {},
     "output_type": "execute_result"
    }
   ],
   "source": [
    "data.data.isna().sum()"
   ]
  },
  {
   "cell_type": "markdown",
   "id": "23a505b5",
   "metadata": {},
   "source": [
    "### Вывести записи, где средний возраст домов в районе более 50 лет и население более 2500 человек, используя метод loc()"
   ]
  },
  {
   "cell_type": "code",
   "execution_count": 48,
   "id": "7918af40",
   "metadata": {},
   "outputs": [
    {
     "data": {
      "text/html": [
       "<div>\n",
       "<style scoped>\n",
       "    .dataframe tbody tr th:only-of-type {\n",
       "        vertical-align: middle;\n",
       "    }\n",
       "\n",
       "    .dataframe tbody tr th {\n",
       "        vertical-align: top;\n",
       "    }\n",
       "\n",
       "    .dataframe thead th {\n",
       "        text-align: right;\n",
       "    }\n",
       "</style>\n",
       "<table border=\"1\" class=\"dataframe\">\n",
       "  <thead>\n",
       "    <tr style=\"text-align: right;\">\n",
       "      <th></th>\n",
       "      <th>MedInc</th>\n",
       "      <th>HouseAge</th>\n",
       "      <th>AveRooms</th>\n",
       "      <th>AveBedrms</th>\n",
       "      <th>Population</th>\n",
       "      <th>AveOccup</th>\n",
       "      <th>Latitude</th>\n",
       "      <th>Longitude</th>\n",
       "    </tr>\n",
       "  </thead>\n",
       "  <tbody>\n",
       "    <tr>\n",
       "      <th>460</th>\n",
       "      <td>1.4012</td>\n",
       "      <td>52.0</td>\n",
       "      <td>3.105714</td>\n",
       "      <td>1.060000</td>\n",
       "      <td>3337.0</td>\n",
       "      <td>9.534286</td>\n",
       "      <td>37.87</td>\n",
       "      <td>-122.26</td>\n",
       "    </tr>\n",
       "    <tr>\n",
       "      <th>4131</th>\n",
       "      <td>3.5349</td>\n",
       "      <td>52.0</td>\n",
       "      <td>4.646119</td>\n",
       "      <td>1.047945</td>\n",
       "      <td>2589.0</td>\n",
       "      <td>5.910959</td>\n",
       "      <td>34.13</td>\n",
       "      <td>-118.20</td>\n",
       "    </tr>\n",
       "    <tr>\n",
       "      <th>4440</th>\n",
       "      <td>2.6806</td>\n",
       "      <td>52.0</td>\n",
       "      <td>4.806283</td>\n",
       "      <td>1.057592</td>\n",
       "      <td>3062.0</td>\n",
       "      <td>4.007853</td>\n",
       "      <td>34.08</td>\n",
       "      <td>-118.21</td>\n",
       "    </tr>\n",
       "    <tr>\n",
       "      <th>5986</th>\n",
       "      <td>1.8750</td>\n",
       "      <td>52.0</td>\n",
       "      <td>4.500000</td>\n",
       "      <td>1.206349</td>\n",
       "      <td>2688.0</td>\n",
       "      <td>21.333333</td>\n",
       "      <td>34.10</td>\n",
       "      <td>-117.71</td>\n",
       "    </tr>\n",
       "    <tr>\n",
       "      <th>7369</th>\n",
       "      <td>3.1901</td>\n",
       "      <td>52.0</td>\n",
       "      <td>4.730942</td>\n",
       "      <td>1.017937</td>\n",
       "      <td>3731.0</td>\n",
       "      <td>4.182735</td>\n",
       "      <td>33.97</td>\n",
       "      <td>-118.21</td>\n",
       "    </tr>\n",
       "    <tr>\n",
       "      <th>8227</th>\n",
       "      <td>2.3305</td>\n",
       "      <td>52.0</td>\n",
       "      <td>3.488860</td>\n",
       "      <td>1.170380</td>\n",
       "      <td>3018.0</td>\n",
       "      <td>3.955439</td>\n",
       "      <td>33.78</td>\n",
       "      <td>-118.20</td>\n",
       "    </tr>\n",
       "    <tr>\n",
       "      <th>13034</th>\n",
       "      <td>6.1359</td>\n",
       "      <td>52.0</td>\n",
       "      <td>8.275862</td>\n",
       "      <td>1.517241</td>\n",
       "      <td>6675.0</td>\n",
       "      <td>230.172414</td>\n",
       "      <td>38.69</td>\n",
       "      <td>-121.15</td>\n",
       "    </tr>\n",
       "    <tr>\n",
       "      <th>15634</th>\n",
       "      <td>1.8295</td>\n",
       "      <td>52.0</td>\n",
       "      <td>2.628169</td>\n",
       "      <td>1.053521</td>\n",
       "      <td>2957.0</td>\n",
       "      <td>4.164789</td>\n",
       "      <td>37.80</td>\n",
       "      <td>-122.41</td>\n",
       "    </tr>\n",
       "    <tr>\n",
       "      <th>15652</th>\n",
       "      <td>0.9000</td>\n",
       "      <td>52.0</td>\n",
       "      <td>2.237474</td>\n",
       "      <td>1.053535</td>\n",
       "      <td>3260.0</td>\n",
       "      <td>2.237474</td>\n",
       "      <td>37.80</td>\n",
       "      <td>-122.41</td>\n",
       "    </tr>\n",
       "    <tr>\n",
       "      <th>15657</th>\n",
       "      <td>2.5166</td>\n",
       "      <td>52.0</td>\n",
       "      <td>2.839075</td>\n",
       "      <td>1.184049</td>\n",
       "      <td>3436.0</td>\n",
       "      <td>1.621520</td>\n",
       "      <td>37.79</td>\n",
       "      <td>-122.41</td>\n",
       "    </tr>\n",
       "    <tr>\n",
       "      <th>15659</th>\n",
       "      <td>1.7240</td>\n",
       "      <td>52.0</td>\n",
       "      <td>2.278566</td>\n",
       "      <td>1.082348</td>\n",
       "      <td>4518.0</td>\n",
       "      <td>1.780142</td>\n",
       "      <td>37.79</td>\n",
       "      <td>-122.41</td>\n",
       "    </tr>\n",
       "    <tr>\n",
       "      <th>15795</th>\n",
       "      <td>2.5755</td>\n",
       "      <td>52.0</td>\n",
       "      <td>3.402576</td>\n",
       "      <td>1.058776</td>\n",
       "      <td>2619.0</td>\n",
       "      <td>2.108696</td>\n",
       "      <td>37.77</td>\n",
       "      <td>-122.42</td>\n",
       "    </tr>\n",
       "    <tr>\n",
       "      <th>15868</th>\n",
       "      <td>2.8135</td>\n",
       "      <td>52.0</td>\n",
       "      <td>4.584329</td>\n",
       "      <td>1.041169</td>\n",
       "      <td>2987.0</td>\n",
       "      <td>3.966799</td>\n",
       "      <td>37.76</td>\n",
       "      <td>-122.41</td>\n",
       "    </tr>\n",
       "  </tbody>\n",
       "</table>\n",
       "</div>"
      ],
      "text/plain": [
       "       MedInc  HouseAge  AveRooms  AveBedrms  Population    AveOccup  \\\n",
       "460    1.4012      52.0  3.105714   1.060000      3337.0    9.534286   \n",
       "4131   3.5349      52.0  4.646119   1.047945      2589.0    5.910959   \n",
       "4440   2.6806      52.0  4.806283   1.057592      3062.0    4.007853   \n",
       "5986   1.8750      52.0  4.500000   1.206349      2688.0   21.333333   \n",
       "7369   3.1901      52.0  4.730942   1.017937      3731.0    4.182735   \n",
       "8227   2.3305      52.0  3.488860   1.170380      3018.0    3.955439   \n",
       "13034  6.1359      52.0  8.275862   1.517241      6675.0  230.172414   \n",
       "15634  1.8295      52.0  2.628169   1.053521      2957.0    4.164789   \n",
       "15652  0.9000      52.0  2.237474   1.053535      3260.0    2.237474   \n",
       "15657  2.5166      52.0  2.839075   1.184049      3436.0    1.621520   \n",
       "15659  1.7240      52.0  2.278566   1.082348      4518.0    1.780142   \n",
       "15795  2.5755      52.0  3.402576   1.058776      2619.0    2.108696   \n",
       "15868  2.8135      52.0  4.584329   1.041169      2987.0    3.966799   \n",
       "\n",
       "       Latitude  Longitude  \n",
       "460       37.87    -122.26  \n",
       "4131      34.13    -118.20  \n",
       "4440      34.08    -118.21  \n",
       "5986      34.10    -117.71  \n",
       "7369      33.97    -118.21  \n",
       "8227      33.78    -118.20  \n",
       "13034     38.69    -121.15  \n",
       "15634     37.80    -122.41  \n",
       "15652     37.80    -122.41  \n",
       "15657     37.79    -122.41  \n",
       "15659     37.79    -122.41  \n",
       "15795     37.77    -122.42  \n",
       "15868     37.76    -122.41  "
      ]
     },
     "execution_count": 48,
     "metadata": {},
     "output_type": "execute_result"
    }
   ],
   "source": [
    "df = data.data\n",
    "df.loc[(df['HouseAge'] > 50) & (df['Population'] > 2500)]"
   ]
  },
  {
   "cell_type": "markdown",
   "id": "37167a14",
   "metadata": {},
   "source": [
    "### Узнать максимальное и минимальное значения медианной стоимости дома."
   ]
  },
  {
   "cell_type": "code",
   "execution_count": 49,
   "id": "096fb448",
   "metadata": {},
   "outputs": [
    {
     "data": {
      "text/plain": [
       "0.4999"
      ]
     },
     "execution_count": 49,
     "metadata": {},
     "output_type": "execute_result"
    }
   ],
   "source": [
    "df.MedInc.min()"
   ]
  },
  {
   "cell_type": "code",
   "execution_count": 50,
   "id": "9541aeb1",
   "metadata": {},
   "outputs": [
    {
     "data": {
      "text/plain": [
       "15.0001"
      ]
     },
     "execution_count": 50,
     "metadata": {},
     "output_type": "execute_result"
    }
   ],
   "source": [
    "df.MedInc.max()"
   ]
  },
  {
   "cell_type": "markdown",
   "id": "b6bbc664",
   "metadata": {},
   "source": [
    "### Используя метод apply(), вывести на экран название признака и его среднее значение."
   ]
  },
  {
   "cell_type": "code",
   "execution_count": 54,
   "id": "9122dc15",
   "metadata": {},
   "outputs": [
    {
     "data": {
      "text/plain": [
       "MedInc           3.870671\n",
       "HouseAge        28.639486\n",
       "AveRooms         5.429000\n",
       "AveBedrms        1.096675\n",
       "Population    1425.476744\n",
       "AveOccup         3.070655\n",
       "Latitude        35.631861\n",
       "Longitude     -119.569704\n",
       "dtype: float64"
      ]
     },
     "execution_count": 54,
     "metadata": {},
     "output_type": "execute_result"
    }
   ],
   "source": [
    "df.apply(lambda x: x.mean())"
   ]
  },
  {
   "cell_type": "code",
   "execution_count": null,
   "id": "6c64f41c",
   "metadata": {},
   "outputs": [],
   "source": []
  },
  {
   "cell_type": "code",
   "execution_count": null,
   "id": "b7f879ac",
   "metadata": {},
   "outputs": [],
   "source": []
  },
  {
   "cell_type": "code",
   "execution_count": null,
   "id": "db937874",
   "metadata": {},
   "outputs": [],
   "source": []
  }
 ],
 "metadata": {
  "kernelspec": {
   "display_name": "Python 3 (ipykernel)",
   "language": "python",
   "name": "python3"
  },
  "language_info": {
   "codemirror_mode": {
    "name": "ipython",
    "version": 3
   },
   "file_extension": ".py",
   "mimetype": "text/x-python",
   "name": "python",
   "nbconvert_exporter": "python",
   "pygments_lexer": "ipython3",
   "version": "3.9.12"
  }
 },
 "nbformat": 4,
 "nbformat_minor": 5
}
